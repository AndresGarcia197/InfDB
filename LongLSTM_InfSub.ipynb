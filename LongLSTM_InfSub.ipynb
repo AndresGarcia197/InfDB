{
 "cells": [
  {
   "cell_type": "code",
   "execution_count": 1,
   "id": "ba0174a7",
   "metadata": {},
   "outputs": [],
   "source": [
    "import numpy as np\n",
    "import pandas as pd\n",
    "from statsmodels.tsa.statespace.sarimax import SARIMAX\n",
    "from statsmodels.graphics.tsaplots import plot_acf,plot_pacf \n",
    "from statsmodels.tsa.seasonal import seasonal_decompose \n",
    "import matplotlib.pyplot as plt                    \n",
    "from sklearn.metrics import mean_squared_error\n",
    "from statsmodels.tools.eval_measures import rmse\n",
    "import warnings\n",
    "import matplotlib.pyplot as plt\n",
    "warnings.filterwarnings(\"ignore\")"
   ]
  },
  {
   "cell_type": "code",
   "execution_count": 2,
   "id": "78ed0688",
   "metadata": {},
   "outputs": [],
   "source": [
    "arch='D:\\Descargas\\Escuela\\Semestre actual\\Practicas profesiónales\\Inf1.csv'\n",
    "df = pd.read_csv(arch)"
   ]
  },
  {
   "cell_type": "code",
   "execution_count": 3,
   "id": "daa6b166",
   "metadata": {},
   "outputs": [
    {
     "data": {
      "text/html": [
       "<div>\n",
       "<style scoped>\n",
       "    .dataframe tbody tr th:only-of-type {\n",
       "        vertical-align: middle;\n",
       "    }\n",
       "\n",
       "    .dataframe tbody tr th {\n",
       "        vertical-align: top;\n",
       "    }\n",
       "\n",
       "    .dataframe thead th {\n",
       "        text-align: right;\n",
       "    }\n",
       "</style>\n",
       "<table border=\"1\" class=\"dataframe\">\n",
       "  <thead>\n",
       "    <tr style=\"text-align: right;\">\n",
       "      <th></th>\n",
       "      <th>Mes</th>\n",
       "      <th>InfSub</th>\n",
       "    </tr>\n",
       "  </thead>\n",
       "  <tbody>\n",
       "    <tr>\n",
       "      <th>0</th>\n",
       "      <td>1982-01</td>\n",
       "      <td>3.929378</td>\n",
       "    </tr>\n",
       "    <tr>\n",
       "      <th>1</th>\n",
       "      <td>1982-02</td>\n",
       "      <td>4.271213</td>\n",
       "    </tr>\n",
       "    <tr>\n",
       "      <th>2</th>\n",
       "      <td>1982-03</td>\n",
       "      <td>4.278975</td>\n",
       "    </tr>\n",
       "    <tr>\n",
       "      <th>3</th>\n",
       "      <td>1982-04</td>\n",
       "      <td>5.763558</td>\n",
       "    </tr>\n",
       "    <tr>\n",
       "      <th>4</th>\n",
       "      <td>1982-05</td>\n",
       "      <td>6.210453</td>\n",
       "    </tr>\n",
       "  </tbody>\n",
       "</table>\n",
       "</div>"
      ],
      "text/plain": [
       "       Mes    InfSub\n",
       "0  1982-01  3.929378\n",
       "1  1982-02  4.271213\n",
       "2  1982-03  4.278975\n",
       "3  1982-04  5.763558\n",
       "4  1982-05  6.210453"
      ]
     },
     "execution_count": 3,
     "metadata": {},
     "output_type": "execute_result"
    }
   ],
   "source": [
    "df.head()"
   ]
  },
  {
   "cell_type": "code",
   "execution_count": 4,
   "id": "40183f72",
   "metadata": {},
   "outputs": [
    {
     "data": {
      "text/html": [
       "<div>\n",
       "<style scoped>\n",
       "    .dataframe tbody tr th:only-of-type {\n",
       "        vertical-align: middle;\n",
       "    }\n",
       "\n",
       "    .dataframe tbody tr th {\n",
       "        vertical-align: top;\n",
       "    }\n",
       "\n",
       "    .dataframe thead th {\n",
       "        text-align: right;\n",
       "    }\n",
       "</style>\n",
       "<table border=\"1\" class=\"dataframe\">\n",
       "  <thead>\n",
       "    <tr style=\"text-align: right;\">\n",
       "      <th></th>\n",
       "      <th>InfSub</th>\n",
       "    </tr>\n",
       "    <tr>\n",
       "      <th>Mes</th>\n",
       "      <th></th>\n",
       "    </tr>\n",
       "  </thead>\n",
       "  <tbody>\n",
       "    <tr>\n",
       "      <th>1982-01</th>\n",
       "      <td>3.929378</td>\n",
       "    </tr>\n",
       "    <tr>\n",
       "      <th>1982-02</th>\n",
       "      <td>4.271213</td>\n",
       "    </tr>\n",
       "    <tr>\n",
       "      <th>1982-03</th>\n",
       "      <td>4.278975</td>\n",
       "    </tr>\n",
       "    <tr>\n",
       "      <th>1982-04</th>\n",
       "      <td>5.763558</td>\n",
       "    </tr>\n",
       "    <tr>\n",
       "      <th>1982-05</th>\n",
       "      <td>6.210453</td>\n",
       "    </tr>\n",
       "  </tbody>\n",
       "</table>\n",
       "</div>"
      ],
      "text/plain": [
       "           InfSub\n",
       "Mes              \n",
       "1982-01  3.929378\n",
       "1982-02  4.271213\n",
       "1982-03  4.278975\n",
       "1982-04  5.763558\n",
       "1982-05  6.210453"
      ]
     },
     "execution_count": 4,
     "metadata": {},
     "output_type": "execute_result"
    }
   ],
   "source": [
    "df.Month = pd.to_datetime(df.Mes)\n",
    "df = df.set_index(\"Mes\")\n",
    "df.head()"
   ]
  },
  {
   "cell_type": "code",
   "execution_count": 5,
   "id": "1e624df1",
   "metadata": {},
   "outputs": [],
   "source": [
    "df.index.freq = 'MS'"
   ]
  },
  {
   "cell_type": "code",
   "execution_count": 6,
   "id": "fdf2f0ef",
   "metadata": {},
   "outputs": [],
   "source": [
    "#ax = df['InfSub'].plot(figsize = (16,5), title = \"InfSub\")\n",
    "#ax.set(xlabel='Mes', ylabel='Inflación Subyacente');"
   ]
  },
  {
   "cell_type": "code",
   "execution_count": 7,
   "id": "a10694db",
   "metadata": {},
   "outputs": [],
   "source": [
    "train_data = df[:len(df)-24]\n",
    "test_data = df[len(df)-24:]"
   ]
  },
  {
   "cell_type": "code",
   "execution_count": 8,
   "id": "d6db2c56",
   "metadata": {},
   "outputs": [],
   "source": [
    "from sklearn.preprocessing import MinMaxScaler\n",
    "scaler = MinMaxScaler()"
   ]
  },
  {
   "cell_type": "code",
   "execution_count": 9,
   "id": "2023bdcc",
   "metadata": {},
   "outputs": [],
   "source": [
    "scaler.fit(train_data)\n",
    "scaled_train_data = scaler.transform(train_data)\n",
    "scaled_test_data = scaler.transform(test_data)"
   ]
  },
  {
   "cell_type": "code",
   "execution_count": 10,
   "id": "2c4f5baa",
   "metadata": {},
   "outputs": [],
   "source": [
    "from keras.preprocessing.sequence import TimeseriesGenerator\n",
    "\n",
    "# Let's redefine to get 12 months back and then predict the next month out\n",
    "n_input = 12\n",
    "n_features= 1\n",
    "generator = TimeseriesGenerator(scaled_train_data, scaled_train_data, \n",
    "                                length=n_input, batch_size=1)"
   ]
  },
  {
   "cell_type": "code",
   "execution_count": 11,
   "id": "37fb2c00",
   "metadata": {},
   "outputs": [
    {
     "name": "stdout",
     "output_type": "stream",
     "text": [
      "Model: \"sequential\"\n",
      "_________________________________________________________________\n",
      " Layer (type)                Output Shape              Param #   \n",
      "=================================================================\n",
      " lstm (LSTM)                 (None, 12, 300)           362400    \n",
      "                                                                 \n",
      " lstm_1 (LSTM)               (None, 12, 250)           551000    \n",
      "                                                                 \n",
      " lstm_2 (LSTM)               (None, 12, 200)           360800    \n",
      "                                                                 \n",
      " dense (Dense)               (None, 12, 1)             201       \n",
      "                                                                 \n",
      "=================================================================\n",
      "Total params: 1,274,401\n",
      "Trainable params: 1,274,401\n",
      "Non-trainable params: 0\n",
      "_________________________________________________________________\n"
     ]
    }
   ],
   "source": [
    "from keras.models import Sequential\n",
    "from keras.layers import Dense\n",
    "from keras.layers import LSTM\n",
    "from keras.callbacks import ModelCheckpoint\n",
    "from keras.layers import Dropout\n",
    "\n",
    "lstm_model = Sequential()\n",
    "lstm_model.add(LSTM(300, activation='tanh',return_sequences=True,\n",
    "                    input_shape=(n_input, n_features)))\n",
    "lstm_model.add(LSTM(250, activation='tanh', return_sequences=True))\n",
    "lstm_model.add(LSTM(200, activation='tanh', return_sequences=True))\n",
    "lstm_model.add(Dense(1))\n",
    "#Permite guardar el modelo una vez que se esta entrenado con la mejor convinación de parametros\n",
    "mc = ModelCheckpoint('best_model_lstm.h5', monitor='val_loss', mode='min', \n",
    "                     verbose=1, save_best_only=True)\n",
    "\n",
    "lstm_model.summary()"
   ]
  },
  {
   "cell_type": "code",
   "execution_count": 12,
   "id": "f5c96f7b",
   "metadata": {},
   "outputs": [],
   "source": [
    "lstm_model.compile(optimizer='adam', loss='mse')"
   ]
  },
  {
   "cell_type": "code",
   "execution_count": 13,
   "id": "b03c4efc",
   "metadata": {},
   "outputs": [
    {
     "name": "stdout",
     "output_type": "stream",
     "text": [
      "Epoch 1/20\n",
      "432/432 [==============================] - 23s 44ms/step - loss: 0.0176\n",
      "Epoch 2/20\n",
      "432/432 [==============================] - 19s 44ms/step - loss: 0.0126\n",
      "Epoch 3/20\n",
      "432/432 [==============================] - 23s 53ms/step - loss: 0.0104\n",
      "Epoch 4/20\n",
      "432/432 [==============================] - 21s 47ms/step - loss: 0.0116\n",
      "Epoch 5/20\n",
      "432/432 [==============================] - 21s 48ms/step - loss: 0.0101\n",
      "Epoch 6/20\n",
      "432/432 [==============================] - 23s 54ms/step - loss: 0.0101\n",
      "Epoch 7/20\n",
      "432/432 [==============================] - 21s 49ms/step - loss: 0.0099\n",
      "Epoch 8/20\n",
      "432/432 [==============================] - 19s 43ms/step - loss: 0.0102\n",
      "Epoch 9/20\n",
      "432/432 [==============================] - 19s 44ms/step - loss: 0.0099\n",
      "Epoch 10/20\n",
      "432/432 [==============================] - 18s 42ms/step - loss: 0.0091\n",
      "Epoch 11/20\n",
      "432/432 [==============================] - 18s 42ms/step - loss: 0.0183\n",
      "Epoch 12/20\n",
      "432/432 [==============================] - 18s 42ms/step - loss: 0.0127\n",
      "Epoch 13/20\n",
      "432/432 [==============================] - 20s 45ms/step - loss: 0.0110\n",
      "Epoch 14/20\n",
      "432/432 [==============================] - 19s 43ms/step - loss: 0.0109\n",
      "Epoch 15/20\n",
      "432/432 [==============================] - 18s 42ms/step - loss: 0.0109\n",
      "Epoch 16/20\n",
      "432/432 [==============================] - 18s 42ms/step - loss: 0.0109\n",
      "Epoch 17/20\n",
      "432/432 [==============================] - 18s 43ms/step - loss: 0.0108\n",
      "Epoch 18/20\n",
      "432/432 [==============================] - 18s 43ms/step - loss: 0.0105\n",
      "Epoch 19/20\n",
      "432/432 [==============================] - 18s 42ms/step - loss: 0.0106\n",
      "Epoch 20/20\n",
      "432/432 [==============================] - 20s 46ms/step - loss: 0.0106\n"
     ]
    },
    {
     "data": {
      "text/plain": [
       "<keras.callbacks.History at 0x1fc412b78b0>"
      ]
     },
     "execution_count": 13,
     "metadata": {},
     "output_type": "execute_result"
    }
   ],
   "source": [
    "lstm_model.fit_generator(generator,epochs=20)"
   ]
  },
  {
   "cell_type": "code",
   "execution_count": 14,
   "id": "47d0398c",
   "metadata": {},
   "outputs": [],
   "source": [
    "from tensorflow.keras.callbacks import EarlyStopping"
   ]
  },
  {
   "cell_type": "code",
   "execution_count": 15,
   "id": "483873b3",
   "metadata": {},
   "outputs": [],
   "source": [
    "early_stop = EarlyStopping(monitor='val_loss',\n",
    "                           patience=6)"
   ]
  },
  {
   "cell_type": "code",
   "execution_count": 16,
   "id": "b1685267",
   "metadata": {},
   "outputs": [],
   "source": [
    "validation_generator = TimeseriesGenerator(scaled_test_data, scaled_test_data, length=n_input)"
   ]
  },
  {
   "cell_type": "code",
   "execution_count": 17,
   "id": "992bd3bd",
   "metadata": {},
   "outputs": [],
   "source": [
    "lstm_model.compile(optimizer='adam', \n",
    "              loss='mse')"
   ]
  },
  {
   "cell_type": "code",
   "execution_count": 18,
   "id": "c5201c68",
   "metadata": {
    "scrolled": true
   },
   "outputs": [
    {
     "name": "stdout",
     "output_type": "stream",
     "text": [
      "Epoch 1/20\n",
      "432/432 [==============================] - ETA: 0s - loss: 0.0126\n",
      "Epoch 00001: val_loss improved from inf to 0.00268, saving model to best_model_lstm.h5\n",
      "432/432 [==============================] - 23s 46ms/step - loss: 0.0126 - val_loss: 0.0027\n",
      "Epoch 2/20\n",
      "432/432 [==============================] - ETA: 0s - loss: 0.0110\n",
      "Epoch 00002: val_loss improved from 0.00268 to 0.00027, saving model to best_model_lstm.h5\n",
      "432/432 [==============================] - 19s 43ms/step - loss: 0.0110 - val_loss: 2.6695e-04\n",
      "Epoch 3/20\n",
      "431/432 [============================>.] - ETA: 0s - loss: 0.0098\n",
      "Epoch 00003: val_loss did not improve from 0.00027\n",
      "432/432 [==============================] - 19s 44ms/step - loss: 0.0098 - val_loss: 4.1666e-04\n",
      "Epoch 4/20\n",
      "431/432 [============================>.] - ETA: 0s - loss: 0.0083\n",
      "Epoch 00004: val_loss improved from 0.00027 to 0.00016, saving model to best_model_lstm.h5\n",
      "432/432 [==============================] - 19s 43ms/step - loss: 0.0083 - val_loss: 1.6190e-04\n",
      "Epoch 5/20\n",
      "432/432 [==============================] - ETA: 0s - loss: 0.0085\n",
      "Epoch 00005: val_loss improved from 0.00016 to 0.00012, saving model to best_model_lstm.h5\n",
      "432/432 [==============================] - 19s 43ms/step - loss: 0.0085 - val_loss: 1.2096e-04\n",
      "Epoch 6/20\n",
      "431/432 [============================>.] - ETA: 0s - loss: 0.0084\n",
      "Epoch 00006: val_loss improved from 0.00012 to 0.00012, saving model to best_model_lstm.h5\n",
      "432/432 [==============================] - 19s 43ms/step - loss: 0.0084 - val_loss: 1.1516e-04\n",
      "Epoch 7/20\n",
      "432/432 [==============================] - ETA: 0s - loss: 0.0081\n",
      "Epoch 00007: val_loss did not improve from 0.00012\n",
      "432/432 [==============================] - 18s 43ms/step - loss: 0.0081 - val_loss: 7.9167e-04\n",
      "Epoch 8/20\n",
      "432/432 [==============================] - ETA: 0s - loss: 0.0079\n",
      "Epoch 00008: val_loss did not improve from 0.00012\n",
      "432/432 [==============================] - 18s 43ms/step - loss: 0.0079 - val_loss: 5.2500e-04\n",
      "Epoch 9/20\n",
      "432/432 [==============================] - ETA: 0s - loss: 0.0088\n",
      "Epoch 00009: val_loss did not improve from 0.00012\n",
      "432/432 [==============================] - 18s 43ms/step - loss: 0.0088 - val_loss: 4.0492e-04\n",
      "Epoch 10/20\n",
      "431/432 [============================>.] - ETA: 0s - loss: 0.0078\n",
      "Epoch 00010: val_loss did not improve from 0.00012\n",
      "432/432 [==============================] - 19s 43ms/step - loss: 0.0078 - val_loss: 3.6140e-04\n",
      "Epoch 11/20\n",
      "431/432 [============================>.] - ETA: 0s - loss: 0.0087\n",
      "Epoch 00011: val_loss did not improve from 0.00012\n",
      "432/432 [==============================] - 21s 48ms/step - loss: 0.0087 - val_loss: 0.0078\n",
      "Epoch 12/20\n",
      "431/432 [============================>.] - ETA: 0s - loss: 0.0082\n",
      "Epoch 00012: val_loss did not improve from 0.00012\n",
      "432/432 [==============================] - 19s 44ms/step - loss: 0.0081 - val_loss: 1.8334e-04\n"
     ]
    },
    {
     "data": {
      "text/plain": [
       "<keras.callbacks.History at 0x1fc43a34c40>"
      ]
     },
     "execution_count": 18,
     "metadata": {},
     "output_type": "execute_result"
    }
   ],
   "source": [
    "# fit model\n",
    "lstm_model.fit_generator(generator,epochs=20,\n",
    "                    validation_data=validation_generator,\n",
    "                   callbacks=[early_stop, mc])"
   ]
  },
  {
   "cell_type": "code",
   "execution_count": 19,
   "id": "9eef5832",
   "metadata": {},
   "outputs": [
    {
     "data": {
      "text/plain": [
       "<AxesSubplot:>"
      ]
     },
     "execution_count": 19,
     "metadata": {},
     "output_type": "execute_result"
    },
    {
     "data": {
      "image/png": "[encoded data removed]",
      "text/plain": [
       "<Figure size 432x288 with 1 Axes>"
      ]
     },
     "metadata": {
      "needs_background": "light"
     },
     "output_type": "display_data"
    }
   ],
   "source": [
    "losses = pd.DataFrame(lstm_model.history.history)\n",
    "losses.plot()"
   ]
  },
  {
   "cell_type": "code",
   "execution_count": 20,
   "id": "d74b5d88",
   "metadata": {},
   "outputs": [],
   "source": [
    "from keras.models import load_model\n",
    "\n",
    "lstm_model = load_model('best_model_lstm.h5', compile=False)"
   ]
  },
  {
   "cell_type": "code",
   "execution_count": 21,
   "id": "b78b1cdb",
   "metadata": {},
   "outputs": [],
   "source": [
    "pred_list=[]\n",
    "\n",
    "batch = scaled_train_data[-n_input:].reshape((1,n_input,n_features,))\n",
    "\n",
    "for i in range(n_input):\n",
    "    pred_list.append(lstm_model.predict(batch)[0])\n",
    "    batch1 =np.append(batch[:,1:,:],[pred_list[i]], axis=1)"
   ]
  },
  {
   "cell_type": "code",
   "execution_count": 22,
   "id": "8129472c",
   "metadata": {},
   "outputs": [
    {
     "data": {
      "text/plain": [
       "array([[0.0210633 ],\n",
       "       [0.03237392],\n",
       "       [0.02829261],\n",
       "       [0.02991673],\n",
       "       [0.03049357],\n",
       "       [0.03062621],\n",
       "       [0.03068785],\n",
       "       [0.03074107],\n",
       "       [0.03079273],\n",
       "       [0.03084423],\n",
       "       [0.03089575],\n",
       "       [0.03094672]], dtype=float32)"
      ]
     },
     "execution_count": 22,
     "metadata": {},
     "output_type": "execute_result"
    }
   ],
   "source": [
    "pred_list[0]"
   ]
  },
  {
   "cell_type": "code",
   "execution_count": 23,
   "id": "42c58c1a",
   "metadata": {},
   "outputs": [],
   "source": [
    "lstm_predictions = scaler.inverse_transform(pred_list[0])"
   ]
  },
  {
   "cell_type": "code",
   "execution_count": 24,
   "id": "e3a72750",
   "metadata": {},
   "outputs": [
    {
     "data": {
      "text/plain": [
       "array([[0.24587625],\n",
       "       [0.3956073 ],\n",
       "       [0.34157857],\n",
       "       [0.36307883],\n",
       "       [0.37071508],\n",
       "       [0.37247092],\n",
       "       [0.373287  ],\n",
       "       [0.37399143],\n",
       "       [0.37467533],\n",
       "       [0.37535706],\n",
       "       [0.3760392 ],\n",
       "       [0.37671384]], dtype=float32)"
      ]
     },
     "execution_count": 24,
     "metadata": {},
     "output_type": "execute_result"
    }
   ],
   "source": [
    "lstm_predictions"
   ]
  },
  {
   "cell_type": "code",
   "execution_count": 25,
   "id": "0593f2ff",
   "metadata": {},
   "outputs": [],
   "source": [
    "lstm_predictions_scaled = list()\n",
    "\n",
    "batch = scaled_train_data[-n_input:]\n",
    "current_batch = batch.reshape((1, n_input, n_features))\n",
    "\n",
    "for i in range(len(test_data)):   \n",
    "    # get prediction 1 time stamp ahead ([0] is for grabbing just the number instead of [array])\n",
    "    lstm_pred = lstm_model.predict(current_batch)[0]\n",
    "    \n",
    "    # store prediction\n",
    "    lstm_predictions_scaled.append(lstm_pred) \n",
    "    \n",
    "    # update batch to now include prediction and drop first value\n",
    "    current_batch = np.append(current_batch[:,1:,:],[[lstm_pred[0]]],axis=1)"
   ]
  },
  {
   "cell_type": "code",
   "execution_count": 26,
   "id": "057aa135",
   "metadata": {},
   "outputs": [],
   "source": [
    "lstm_predictions = scaler.inverse_transform(lstm_predictions_scaled[0])"
   ]
  },
  {
   "cell_type": "code",
   "execution_count": 27,
   "id": "8535b6f3",
   "metadata": {},
   "outputs": [
    {
     "data": {
      "text/plain": [
       "array([[0.24587625],\n",
       "       [0.3956073 ],\n",
       "       [0.34157857],\n",
       "       [0.36307883],\n",
       "       [0.37071508],\n",
       "       [0.37247092],\n",
       "       [0.373287  ],\n",
       "       [0.37399143],\n",
       "       [0.37467533],\n",
       "       [0.37535706],\n",
       "       [0.3760392 ],\n",
       "       [0.37671384]], dtype=float32)"
      ]
     },
     "execution_count": 27,
     "metadata": {},
     "output_type": "execute_result"
    }
   ],
   "source": [
    "lstm_predictions"
   ]
  },
  {
   "cell_type": "code",
   "execution_count": 28,
   "id": "3e64a94b",
   "metadata": {},
   "outputs": [],
   "source": [
    "test_dataa = df[len(df)-12:]\n",
    "test_dataa['LSTM_Predictions'] = lstm_predictions"
   ]
  },
  {
   "cell_type": "code",
   "execution_count": 29,
   "id": "021aaedc",
   "metadata": {},
   "outputs": [
    {
     "data": {
      "image/png": "[encoded data removed]",
      "text/plain": [
       "<Figure size 1152x360 with 1 Axes>"
      ]
     },
     "metadata": {
      "needs_background": "light"
     },
     "output_type": "display_data"
    }
   ],
   "source": [
    "test_dataa['InfSub'].plot(figsize = (16,5), legend=True)\n",
    "test_dataa['LSTM_Predictions'].plot(legend = True);"
   ]
  },
  {
   "cell_type": "code",
   "execution_count": 33,
   "id": "71459ab6",
   "metadata": {},
   "outputs": [
    {
     "name": "stdout",
     "output_type": "stream",
     "text": [
      "MSE Error: 0.02348436617723191\n",
      "RMSE Error: 0.1532460967764984\n",
      "Mean: 1.5532881589743583\n"
     ]
    }
   ],
   "source": [
    "lstm_rmse_error = rmse(test_dataa['InfSub'], test_dataa[\"LSTM_Predictions\"])\n",
    "lstm_mse_error = lstm_rmse_error**2\n",
    "mean_value = df['InfSub'].mean()\n",
    "\n",
    "print(f'MSE Error: {lstm_mse_error}\\nRMSE Error: {lstm_rmse_error}\\nMean: {mean_value}')"
   ]
  },
  {
   "cell_type": "code",
   "execution_count": null,
   "id": "8f739801",
   "metadata": {},
   "outputs": [],
   "source": []
  },
  {
   "cell_type": "code",
   "execution_count": null,
   "id": "d405af34",
   "metadata": {},
   "outputs": [],
   "source": []
  }
 ],
 "metadata": {
  "kernelspec": {
   "display_name": "Python 3 (ipykernel)",
   "language": "python",
   "name": "python3"
  },
  "language_info": {
   "codemirror_mode": {
    "name": "ipython",
    "version": 3
   },
   "file_extension": ".py",
   "mimetype": "text/x-python",
   "name": "python",
   "nbconvert_exporter": "python",
   "pygments_lexer": "ipython3",
   "version": "3.9.7"
  }
 },
 "nbformat": 4,
 "nbformat_minor": 5
}
